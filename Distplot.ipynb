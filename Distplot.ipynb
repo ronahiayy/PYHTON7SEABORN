{
 "cells": [
  {
   "cell_type": "code",
   "execution_count": null,
   "metadata": {},
   "outputs": [],
   "source": [
    "import numpy as np\n",
    "import pandas as  pd\n",
    "import matplotlib as mpl\n",
    "import matplotlib.pyplot as plt\n",
    "import seaborn as sns \n",
    "import warnings \n",
    "%matplotlib inline \n",
    "\n",
    "#csv dosyayasını çağırmak için read_csv çağrıldı.\n",
    "e=pd.read_csv(\"Financial Sample.csv\")\n",
    "\n",
    "\n",
    "#set ile grafik düzeni belirlenir.\n",
    "sns.set(style=\"darkgrid\",palette=\"bright\")\n",
    "\n",
    "#csv dosyası içinden \"YEAR\" adlı veriler çekildi.\n",
    "sns.distplot(e[\"Year\"],bins=10,kde=True,color=\"red\")\n",
    "\n",
    "sns.set(style=\"darkgrid\",palette=\"bright\")\n",
    "sns.distplot(e[\"Year\"],bins=10,kde=True,color=\"red\")\n",
    "#tight_layout grafiğin düzgün bir şekilde ekrana sığmasını sağlar.\n",
    "plt.tight_layout()\n",
    "\n",
    "#aynı grup üzerinden 4 grafiğin yanyana oluşturulması için yazılan kodlar:\n",
    "sns.set(style=\"darkgrid\",palette=\"bright\")\n",
    "f , axes = plt.subplots(2,2,figsize=(15,10))\n",
    "sns.set(style=\"darkgrid\",palette=\"bright\")\n",
    "sns.distplot(e[\"Year\"],bins=10,kde=True,color=\"red\",ax=axes[0,0])\n",
    "n=pd.read_csv(\"Financial Sample.csv\")\n",
    "sns.distplot(n[\"Month Number\"],bins=20,color=\"yellow\",ax=axes[0,1])\n"
   ]
  }
 ],
 "metadata": {
  "kernelspec": {
   "display_name": "Python 3",
   "language": "python",
   "name": "python3"
  },
  "language_info": {
   "codemirror_mode": {
    "name": "ipython",
    "version": 3
   },
   "file_extension": ".py",
   "mimetype": "text/x-python",
   "name": "python",
   "nbconvert_exporter": "python",
   "pygments_lexer": "ipython3",
   "version": "3.7.6"
  }
 },
 "nbformat": 4,
 "nbformat_minor": 4
}
