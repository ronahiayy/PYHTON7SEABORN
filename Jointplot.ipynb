{
 "cells": [
  {
   "cell_type": "code",
   "execution_count": null,
   "metadata": {},
   "outputs": [],
   "source": [
    "import numpy as np\n",
    "import pandas as  pd\n",
    "import matplotlib as mpl\n",
    "import matplotlib.pyplot as plt\n",
    "import seaborn as sns \n",
    "import warnings \n",
    "%matplotlib inline \n",
    "\n",
    "\n",
    "#\"YEAR\" ve \"MONTH NUMBER\" çağrılır.\n",
    "sns.jointplot(n[\"Year\"],n[\"Month Number\"],data=n)\n",
    "\n",
    "#hex ile verilerin nerede yoğunlaştığı görülebilir.\n",
    "sns.jointplot(n[\"Year\"],n[\"Month Number\"],data=n,kind=\"hex\",color=\"purple\")\n",
    "\n",
    "#kde ile izohips görünümlü veri karşılaştırılması.\n",
    "sns.jointplot(n[\"Year\"],n[\"Month Number\"],data=n,kind=\"kde\",color=\"gray\")"
   ]
  }
 ],
 "metadata": {
  "kernelspec": {
   "display_name": "Python 3",
   "language": "python",
   "name": "python3"
  },
  "language_info": {
   "codemirror_mode": {
    "name": "ipython",
    "version": 3
   },
   "file_extension": ".py",
   "mimetype": "text/x-python",
   "name": "python",
   "nbconvert_exporter": "python",
   "pygments_lexer": "ipython3",
   "version": "3.7.6"
  }
 },
 "nbformat": 4,
 "nbformat_minor": 4
}
